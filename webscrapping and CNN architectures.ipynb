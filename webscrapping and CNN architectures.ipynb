{
  "cells": [
    {
      "cell_type": "markdown",
      "metadata": {
        "id": "v8akKC0z5EQK"
      },
      "source": [
        "### webscarpping of images"
      ]
    },
    {
      "cell_type": "code",
      "execution_count": null,
      "metadata": {
        "id": "pwrtRFpq5EQU"
      },
      "outputs": [],
      "source": [
        "import os\n",
        "import time\n",
        "from selenium import webdriver\n",
        "from selenium.webdriver.common.by import By\n",
        "from selenium.webdriver.common.keys import Keys\n",
        "from selenium.webdriver.chrome.service import Service\n",
        "from selenium.webdriver.support.ui import WebDriverWait\n",
        "from selenium.webdriver.support import expected_conditions as EC\n",
        "from selenium.common.exceptions import TimeoutException\n",
        "import requests\n",
        "\n",
        "def save_image(img_url, save_path, img_name):\n",
        "    response = requests.get(img_url, stream=True)\n",
        "    with open(os.path.join(save_path, img_name), 'wb') as file:\n",
        "        for chunk in response.iter_content(chunk_size=1024):\n",
        "            if chunk:\n",
        "                file.write(chunk)\n",
        "    print(f\"Image {img_name} downloaded successfully\")\n",
        "\n",
        "def scrape_images(query, num_images, save_path, class_name):\n",
        "    driver_path = \"chromedriver.exe\" # Update this path to your ChromeDriver location\n",
        "    chrome_service = Service(executable_path=driver_path)\n",
        "    driver = webdriver.Chrome(service=chrome_service)\n",
        "\n",
        "    os.makedirs(os.path.join(save_path, class_name), exist_ok=True)\n",
        "    img_count = 0\n",
        "    page_num = 1\n",
        "    while img_count < num_images:\n",
        "        search_url = f\"https://www.google.com/search?q=cat+images&tbm=isch&ved=2ahUKEwi2xK3dw-6FAxWmU6QEHeUbC00Q2-cCegQIABAA&oq=cat+images&gs_lp=EgNpbWciCmNhdCBpbWFnZXMyBBAjGCcyChAAGIAEGEMYigUyChAAGIAEGEMYigUyChAAGIAEGEMYigUyChAAGIAEGEMYigUyChAAGIAEGEMYigUyChAAGIAEGEMYigUyChAAGIAEGEMYigUyChAAGIAEGEMYigUyBRAAGIAESO0WUOYFWMMQcAB4AJABAJgB8wGgAbYMqgEDMi03uAEDyAEA-AEBigILZ3dzLXdpei1pbWfCAg0QABiABBixAxhDGIoFwgIIEAAYgAQYsQOIBgE&sclient=img&ei=FEwzZrbqPKankdUP5bes6AQ&bih=926&biw=2048&prmd=ivsnbz&rlz=1C1KNTJ_enPK1085PK1085/?q={query}+{class_name}&tbm=isch&p={page_num}\"\n",
        "        driver.get(search_url)\n",
        "\n",
        "        try:\n",
        "            WebDriverWait(driver, 20).until(EC.presence_of_element_located((By.CSS_SELECTOR, \"img\")))\n",
        "        except TimeoutException:\n",
        "            print(f\"TimeoutException: The images for class {class_name} were not found within the specified timeout.\")\n",
        "            driver.quit()\n",
        "            return\n",
        "\n",
        "        # Scroll down to load more images\n",
        "        for _ in range(10): # Adjust the range based on how many scrolls are needed to load more images\n",
        "            driver.execute_script(\"window.scrollTo(0, document.body.scrollHeight);\")\n",
        "            time.sleep(2) # Wait for images to load\n",
        "\n",
        "        img_elements = driver.find_elements(By.CSS_SELECTOR, \"img\")\n",
        "        for i, img_element in enumerate(img_elements):\n",
        "            if img_count >= num_images:\n",
        "                break\n",
        "            try:\n",
        "                img_url = img_element.get_attribute(\"src\")\n",
        "                img_name = f\"{class_name}_{img_count+1}.jpg\"\n",
        "                save_image(img_url, os.path.join(save_path, class_name), img_name)\n",
        "                img_count += 1\n",
        "            except Exception as e:\n",
        "                print(f\"Failed to download image {img_count+1} for class {class_name}: {e}\")\n",
        "\n",
        "        # Attempt to click the \"Next\" button to navigate to the next page\n",
        "        try:\n",
        "            next_button = driver.find_element(By.CSS_SELECTOR, \"button.next\") # Adjust the CSS selector as needed\n",
        "            next_button.click()\n",
        "            time.sleep(2) # Wait for the next page to load\n",
        "            page_num += 1\n",
        "        except Exception as e:\n",
        "            print(f\"Failed to navigate to the next page for class {class_name}: {e}\")\n",
        "            break # Exit the loop if the \"Next\" button is not found or cannot be clicked\n",
        "\n",
        "    driver.quit()\n",
        "\n",
        "# Example usage\n",
        "save_path = \"dataset\"\n",
        "\n",
        "# Define the classes you want to scrape\n",
        "classes = [\"cats\"]\n",
        "\n",
        "for class_name in classes:\n",
        "    query = class_name\n",
        "    num_images = 500\n",
        "    scrape_images(query, num_images, save_path, class_name)"
      ]
    },
    {
      "cell_type": "markdown",
      "metadata": {
        "id": "l0AiklbM5EQd"
      },
      "source": [
        "### resizing images"
      ]
    },
    {
      "cell_type": "code",
      "execution_count": null,
      "metadata": {
        "id": "MX-AiIjb5EQf"
      },
      "outputs": [],
      "source": [
        "import cv2\n",
        "import os\n",
        "\n",
        "def resize_images(dataset_path, output_path, size=(224, 224)):\n",
        "    \"\"\"\n",
        "    Resize images in the dataset for CNN classification.\n",
        "\n",
        "    :param dataset_path: Path to the dataset directory containing class subdirectories.\n",
        "    :param output_path: Path to the output directory where resized images will be saved.\n",
        "    :param size: Tuple specifying the new size for the images. Default is (224, 224).\n",
        "    \"\"\"\n",
        "    # Create the output directory if it doesn't exist\n",
        "    os.makedirs(output_path, exist_ok=True)\n",
        "\n",
        "    # Iterate over each class subdirectory\n",
        "    for class_name in os.listdir(dataset_path):\n",
        "        class_path = os.path.join(dataset_path, class_name)\n",
        "        if os.path.isdir(class_path):\n",
        "            # Create a subdirectory in the output path for the current class\n",
        "            os.makedirs(os.path.join(output_path, class_name), exist_ok=True)\n",
        "\n",
        "            # Iterate over each image in the class subdirectory\n",
        "            for image_name in os.listdir(class_path):\n",
        "                image_path = os.path.join(class_path, image_name)\n",
        "                if os.path.isfile(image_path):\n",
        "                    # Read the image\n",
        "                    image = cv2.imread(image_path)\n",
        "                    if image is not None:\n",
        "                        # Resize the image\n",
        "                        resized_image = cv2.resize(image, size)\n",
        "                        # Save the resized image in the output directory\n",
        "                        output_image_path = os.path.join(output_path, class_name, image_name)\n",
        "                        cv2.imwrite(output_image_path, resized_image)\n",
        "                        print(f\"Resized image {image_name} and saved to {output_image_path}\")\n",
        "\n",
        "# Example usage\n",
        "dataset_path = '/content/improved-project1/dataset' # Path to your dataset directory\n",
        "output_path = 'resized_dataset' # Path to the directory where resized images will be saved\n",
        "resize_images(dataset_path, output_path)"
      ]
    },
    {
      "cell_type": "markdown",
      "metadata": {
        "id": "K0U64esC5EQh"
      },
      "source": [
        "### preprocessing and importing folders"
      ]
    },
    {
      "cell_type": "code",
      "execution_count": null,
      "metadata": {
        "id": "zZpkcnTq5j-2"
      },
      "outputs": [],
      "source": [
        "!unzip /content/improved-project1.zip"
      ]
    },
    {
      "cell_type": "code",
      "execution_count": null,
      "metadata": {
        "id": "qCpHDT3L5oQD"
      },
      "outputs": [],
      "source": [
        "from google.colab import drive\n",
        "drive.mount('/content/drive')"
      ]
    },
    {
      "cell_type": "code",
      "execution_count": 3,
      "metadata": {
        "id": "n4IfAfyB5EQi"
      },
      "outputs": [],
      "source": [
        "import os\n",
        "import cv2\n",
        "import numpy as np\n",
        "from sklearn.model_selection import train_test_split\n",
        "import numpy as np\n",
        "from sklearn.model_selection import train_test_split\n",
        "from tensorflow.keras.models import Sequential\n",
        "from tensorflow.keras.layers import Conv2D, MaxPooling2D, Flatten, Dense, Dropout\n",
        "import tensorflow as tf"
      ]
    },
    {
      "cell_type": "code",
      "execution_count": 4,
      "metadata": {
        "id": "gHAm9DxU5EQm"
      },
      "outputs": [],
      "source": [
        "# Define the paths to the clear and rainy folders\n",
        "cat_folder = \"/content/resized_dataset/cat\"\n",
        "dog_folder = \"/content/resized_dataset/dog\""
      ]
    },
    {
      "cell_type": "code",
      "execution_count": 5,
      "metadata": {
        "id": "4FfKhmYO5EQo"
      },
      "outputs": [],
      "source": [
        "#Load cat images and labels\n",
        "cat_images = []\n",
        "cat_labels = []\n",
        "for filename in os.listdir(cat_folder):\n",
        "    img_path = os.path.join(cat_folder, filename)\n",
        "    if img_path.endswith(\".jpg\") or img_path.endswith(\".png\"):\n",
        "        img = cv2.imread(img_path)\n",
        "        cat_images.append(img)\n",
        "        cat_labels.append(0)  # Label 0 for cat"
      ]
    },
    {
      "cell_type": "code",
      "execution_count": 6,
      "metadata": {
        "id": "8XJjEcbx5EQq"
      },
      "outputs": [],
      "source": [
        "# Load dog images and labels\n",
        "dog_images = []\n",
        "dog_labels = []\n",
        "for filename in os.listdir(dog_folder):\n",
        "    img_path = os.path.join(dog_folder, filename)\n",
        "    if img_path.endswith(\".jpg\") or img_path.endswith(\".png\"):\n",
        "        img = cv2.imread(img_path)\n",
        "        dog_images.append(img)\n",
        "        dog_labels.append(1)  # Label 1 for dog"
      ]
    },
    {
      "cell_type": "code",
      "execution_count": 7,
      "metadata": {
        "id": "N4kdwC5i5EQs"
      },
      "outputs": [],
      "source": [
        "\n",
        "X = np.array(cat_images + dog_images)\n",
        "y = np.array(cat_labels + dog_labels)"
      ]
    },
    {
      "cell_type": "markdown",
      "metadata": {
        "id": "9iAL0zQ65EQt"
      },
      "source": [
        "### Simple multilayer perceptron - 64.8% accuracy"
      ]
    },
    {
      "cell_type": "code",
      "execution_count": 8,
      "metadata": {
        "id": "bZCZONX95EQu"
      },
      "outputs": [],
      "source": [
        "# Split data into train and test sets\n",
        "x_train1, x_test1, y_train1, y_test1 = train_test_split(X, y, test_size=0.2, random_state=42)"
      ]
    },
    {
      "cell_type": "code",
      "execution_count": 9,
      "metadata": {
        "colab": {
          "base_uri": "https://localhost:8080/"
        },
        "id": "DffRWAWt5EQv",
        "outputId": "ce542b59-7287-4512-af5a-25757ed7ded9"
      },
      "outputs": [
        {
          "output_type": "stream",
          "name": "stdout",
          "text": [
            "Original shape of x_train: (740, 224, 224, 3) (185, 224, 224, 3) (740,) (185,)\n"
          ]
        }
      ],
      "source": [
        "print(\"Original shape of x_train:\", x_train1.shape, x_test1.shape, y_train1.shape, y_test1.shape)\n"
      ]
    },
    {
      "cell_type": "code",
      "execution_count": 10,
      "metadata": {
        "id": "XF7y6zPA5EQw"
      },
      "outputs": [],
      "source": [
        "# Flatten each image into a 1D array of size 224*224*3\n",
        "x_train1 = x_train1.reshape((x_train1.shape[0], 224*224*3)).astype('float32') / 255\n",
        "x_test1 = x_test1.reshape((x_test1.shape[0], 224*224*3)).astype('float32') / 255"
      ]
    },
    {
      "cell_type": "code",
      "execution_count": 11,
      "metadata": {
        "colab": {
          "base_uri": "https://localhost:8080/"
        },
        "id": "eLd-5Vj25EQx",
        "outputId": "5a311b6d-e558-489b-85e3-c55817396974"
      },
      "outputs": [
        {
          "output_type": "execute_result",
          "data": {
            "text/plain": [
              "(740, 150528)"
            ]
          },
          "metadata": {},
          "execution_count": 11
        }
      ],
      "source": [
        "x_train1.shape"
      ]
    },
    {
      "cell_type": "code",
      "execution_count": 12,
      "metadata": {
        "id": "j5080vCH5EQy"
      },
      "outputs": [],
      "source": [
        "from keras.utils import to_categorical\n",
        "y_train1 = to_categorical(y_train1)\n",
        "y_test1 = to_categorical(y_test1)"
      ]
    },
    {
      "cell_type": "code",
      "source": [
        "y_train1.shape"
      ],
      "metadata": {
        "colab": {
          "base_uri": "https://localhost:8080/"
        },
        "id": "O2Q0ImSJmj_Q",
        "outputId": "6cec44c0-7e12-49b2-9d1f-b12a44704476"
      },
      "execution_count": 13,
      "outputs": [
        {
          "output_type": "execute_result",
          "data": {
            "text/plain": [
              "(740, 2)"
            ]
          },
          "metadata": {},
          "execution_count": 13
        }
      ]
    },
    {
      "cell_type": "code",
      "execution_count": 14,
      "metadata": {
        "id": "LdvS1L475EQz"
      },
      "outputs": [],
      "source": [
        "model = Sequential([\n",
        "    Dense(64, activation='relu', input_shape=(224*224*3,)),\n",
        "    Dense(16, activation='relu'),\n",
        "    Dense(2, activation='softmax')\n",
        "])"
      ]
    },
    {
      "cell_type": "code",
      "source": [
        "import json\n",
        "\n",
        "model_json = model.to_json()\n",
        "with open(\"/content/model_perceptron.json\", \"w\") as json_file:\n",
        "    json_file.write(model_json)\n"
      ],
      "metadata": {
        "id": "Qrbp8qLbcU_j"
      },
      "execution_count": 17,
      "outputs": []
    },
    {
      "cell_type": "code",
      "source": [
        "# prompt: save in yml\n",
        "\n",
        "import yaml\n",
        "\n",
        "# Convert the model to JSON\n",
        "model_json = model.to_json()\n",
        "\n",
        "# Create a dictionary to store the model and its configuration\n",
        "model_dict = {\n",
        "    \"model\": model_json,\n",
        "    \"training_config\": {\n",
        "        \"optimizer\": \"adam\",\n",
        "        \"loss\": \"categorical_crossentropy\",\n",
        "        \"metrics\": [\"accuracy\"]\n",
        "    }\n",
        "}\n",
        "\n",
        "# Save the model and its configuration to a YAML file\n",
        "with open(\"/content/model_perceptron.yml\", \"w\") as yaml_file:\n",
        "    yaml.dump(model_dict, yaml_file, default_flow_style=False)\n"
      ],
      "metadata": {
        "id": "BK5EoUC7dJwS"
      },
      "execution_count": 18,
      "outputs": []
    },
    {
      "cell_type": "code",
      "execution_count": 19,
      "metadata": {
        "id": "9dRaVB-u5EQ0"
      },
      "outputs": [],
      "source": [
        "model.compile(optimizer='adam', loss='binary_crossentropy', metrics=['accuracy'])"
      ]
    },
    {
      "cell_type": "code",
      "execution_count": 20,
      "metadata": {
        "colab": {
          "base_uri": "https://localhost:8080/"
        },
        "id": "fcgzC9lo5EQ0",
        "outputId": "8f9323e3-b09c-4236-ea4a-410627c3282c"
      },
      "outputs": [
        {
          "output_type": "stream",
          "name": "stdout",
          "text": [
            "Epoch 1/100\n",
            "24/24 [==============================] - 4s 39ms/step - loss: 5.3485 - accuracy: 0.5135 - val_loss: 2.0694 - val_accuracy: 0.5297\n",
            "Epoch 2/100\n",
            "24/24 [==============================] - 0s 20ms/step - loss: 2.2097 - accuracy: 0.5135 - val_loss: 1.6634 - val_accuracy: 0.6000\n",
            "Epoch 3/100\n",
            "24/24 [==============================] - 1s 21ms/step - loss: 0.9740 - accuracy: 0.6284 - val_loss: 0.7970 - val_accuracy: 0.6703\n",
            "Epoch 4/100\n",
            "24/24 [==============================] - 0s 19ms/step - loss: 0.9094 - accuracy: 0.6459 - val_loss: 2.1500 - val_accuracy: 0.4811\n",
            "Epoch 5/100\n",
            "24/24 [==============================] - 0s 20ms/step - loss: 1.2085 - accuracy: 0.5635 - val_loss: 0.9620 - val_accuracy: 0.5676\n",
            "Epoch 6/100\n",
            "24/24 [==============================] - 0s 19ms/step - loss: 0.8603 - accuracy: 0.6176 - val_loss: 0.6516 - val_accuracy: 0.6432\n",
            "Epoch 7/100\n",
            "24/24 [==============================] - 0s 20ms/step - loss: 0.7450 - accuracy: 0.6257 - val_loss: 0.8159 - val_accuracy: 0.6865\n",
            "Epoch 8/100\n",
            "24/24 [==============================] - 0s 19ms/step - loss: 1.2100 - accuracy: 0.6351 - val_loss: 1.0435 - val_accuracy: 0.5514\n",
            "Epoch 9/100\n",
            "24/24 [==============================] - 0s 20ms/step - loss: 1.1863 - accuracy: 0.7095 - val_loss: 1.2332 - val_accuracy: 0.7243\n",
            "Epoch 10/100\n",
            "24/24 [==============================] - 0s 19ms/step - loss: 1.1910 - accuracy: 0.7135 - val_loss: 1.6053 - val_accuracy: 0.6108\n",
            "Epoch 11/100\n",
            "24/24 [==============================] - 1s 23ms/step - loss: 1.0510 - accuracy: 0.6973 - val_loss: 0.7179 - val_accuracy: 0.6486\n"
          ]
        }
      ],
      "source": [
        "from keras.callbacks import EarlyStopping\n",
        "from keras.utils import plot_model\n",
        "\n",
        "#add early stopping\n",
        "es = EarlyStopping(monitor='val_loss', patience=5, mode='min')\n",
        "history = model.fit(x_train1, y_train1, epochs=100, validation_data=(x_test1, y_test1), callbacks=[es])\n",
        "\n",
        "#evaluate the model\n",
        "#model.evaluate(x_test1, y_test1)\n",
        "\n",
        "\n",
        "#history = model.fit(x_train1, y_train1, epochs=49, validation_data=(x_test1, y_test1))\n"
      ]
    },
    {
      "cell_type": "code",
      "execution_count": 21,
      "metadata": {
        "colab": {
          "base_uri": "https://localhost:8080/"
        },
        "id": "Ca60yB1f5EQ3",
        "outputId": "e5bd61ac-8805-4818-cf6a-27f5b8b7f37e"
      },
      "outputs": [
        {
          "output_type": "stream",
          "name": "stdout",
          "text": [
            "6/6 [==============================] - 0s 11ms/step - loss: 0.7179 - accuracy: 0.6486\n",
            "Test accuracy: 0.6486486196517944\n"
          ]
        }
      ],
      "source": [
        "test_loss, test_acc = model.evaluate(x_test1, y_test1) # will give test data acccuracy\n",
        "print('Test accuracy:', test_acc)"
      ]
    },
    {
      "cell_type": "code",
      "execution_count": 22,
      "metadata": {
        "colab": {
          "base_uri": "https://localhost:8080/",
          "height": 472
        },
        "id": "2kuGM-o15EQ4",
        "outputId": "8176f956-18be-45d3-8dd4-e6babb8a3a3a"
      },
      "outputs": [
        {
          "output_type": "display_data",
          "data": {
            "text/plain": [
              "<Figure size 640x480 with 1 Axes>"
            ],
            "image/png": "[encoded data removed]"
          },
          "metadata": {}
        }
      ],
      "source": [
        "import matplotlib.pyplot as plt\n",
        "#plot the history of the model\n",
        "plt.plot(history.history['accuracy'])\n",
        "plt.plot(history.history['val_accuracy'])\n",
        "plt.title('Model accuracy')\n",
        "plt.ylabel('Accuracy')\n",
        "plt.xlabel('Epoch')\n",
        "plt.legend(['Train', 'Validation'], loc='upper left')\n",
        "plt.show()\n"
      ]
    },
    {
      "cell_type": "code",
      "source": [
        "model.save('perceptron.h5')\n"
      ],
      "metadata": {
        "colab": {
          "base_uri": "https://localhost:8080/"
        },
        "id": "SYdG2z22ojmu",
        "outputId": "ada78f12-be67-49d2-c073-97532d547513"
      },
      "execution_count": 24,
      "outputs": [
        {
          "output_type": "stream",
          "name": "stderr",
          "text": [
            "/usr/local/lib/python3.10/dist-packages/keras/src/engine/training.py:3103: UserWarning: You are saving your model as an HDF5 file via `model.save()`. This file format is considered legacy. We recommend using instead the native Keras format, e.g. `model.save('my_model.keras')`.\n",
            "  saving_api.save_model(\n"
          ]
        }
      ]
    },
    {
      "cell_type": "markdown",
      "metadata": {
        "id": "AyfF4Hsm5EQ6"
      },
      "source": [
        "### Shallow CNN model - 70% accuracy"
      ]
    },
    {
      "cell_type": "code",
      "execution_count": 26,
      "metadata": {
        "id": "exDCHQtf5EQ6"
      },
      "outputs": [],
      "source": [
        "# Split data into train and test sets\n",
        "x_train2, x_test2, y_train2, y_test2 = train_test_split(X, y, test_size=0.2, random_state=42)"
      ]
    },
    {
      "cell_type": "code",
      "execution_count": 27,
      "metadata": {
        "id": "IclClaSA5EQ7"
      },
      "outputs": [],
      "source": [
        "from keras.utils import to_categorical\n",
        "y_train2 = to_categorical(y_train2)\n",
        "y_test2 = to_categorical(y_test2)"
      ]
    },
    {
      "cell_type": "code",
      "execution_count": 28,
      "metadata": {
        "colab": {
          "base_uri": "https://localhost:8080/"
        },
        "id": "2pH189SG5EQ8",
        "outputId": "63b7660c-0c8f-45f1-bbbe-f69ec6bb6642"
      },
      "outputs": [
        {
          "output_type": "execute_result",
          "data": {
            "text/plain": [
              "((740, 224, 224, 3), (185, 224, 224, 3), (740, 2), (185, 2))"
            ]
          },
          "metadata": {},
          "execution_count": 28
        }
      ],
      "source": [
        "x_train2.shape, x_test2.shape, y_train2.shape, y_test2.shape  #here we see that our target variable y train and y test has 2 classes so therefore we put 2 in output dense layer"
      ]
    },
    {
      "cell_type": "code",
      "execution_count": 29,
      "metadata": {
        "id": "dZauV6Wm5EQ9"
      },
      "outputs": [],
      "source": [
        "model = Sequential([\n",
        "    Conv2D(32, (3, 3), activation='relu', input_shape=(224, 224, 3)),\n",
        "    #MaxPooling2D((2, 2)),\n",
        "    Conv2D(64, (3, 3), activation='relu'),\n",
        "    #MaxPooling2D((2, 2)),\n",
        "    Flatten(),\n",
        "    Dense(128, activation='relu'),\n",
        "    Dropout(0.2),\n",
        "    Dense(2, activation='softmax')\n",
        "])"
      ]
    },
    {
      "cell_type": "code",
      "source": [
        "\n",
        "# Convert the model to JSON\n",
        "model_json = model.to_json()\n",
        "\n",
        "# Create a dictionary to store the model and its configuration\n",
        "model_dict = {\n",
        "    \"model\": model_json,\n",
        "    \"training_config\": {\n",
        "        \"optimizer\": \"adam\",\n",
        "        \"loss\": \"categorical_crossentropy\",\n",
        "        \"metrics\": [\"accuracy\"]\n",
        "    }\n",
        "}\n",
        "\n",
        "# Save the model and its configuration to a YAML file\n",
        "with open(\"/content/model_shallowCNN.yml\", \"w\") as yaml_file:\n",
        "    yaml.dump(model_dict, yaml_file, default_flow_style=False)\n"
      ],
      "metadata": {
        "id": "xO98sQE0im91"
      },
      "execution_count": 33,
      "outputs": []
    },
    {
      "cell_type": "code",
      "execution_count": 30,
      "metadata": {
        "id": "iZlLabmu5EQ9"
      },
      "outputs": [],
      "source": [
        "model.compile(optimizer='adam', loss='binary_crossentropy', metrics=['accuracy'])"
      ]
    },
    {
      "cell_type": "code",
      "execution_count": 31,
      "metadata": {
        "colab": {
          "base_uri": "https://localhost:8080/"
        },
        "id": "WtgdKriU5EQ-",
        "outputId": "9cb2dc84-f8e1-4305-bf68-a687a47f8b8b"
      },
      "outputs": [
        {
          "output_type": "stream",
          "name": "stdout",
          "text": [
            "Epoch 1/100\n",
            "24/24 [==============================] - 15s 290ms/step - loss: 4714.3447 - accuracy: 0.5054 - val_loss: 6.6440 - val_accuracy: 0.6595\n",
            "Epoch 2/100\n",
            "24/24 [==============================] - 4s 183ms/step - loss: 0.9400 - accuracy: 0.8554 - val_loss: 1.8478 - val_accuracy: 0.6108\n",
            "Epoch 3/100\n",
            "24/24 [==============================] - 5s 194ms/step - loss: 0.1793 - accuracy: 0.9635 - val_loss: 1.7354 - val_accuracy: 0.6649\n",
            "Epoch 4/100\n",
            "24/24 [==============================] - 5s 188ms/step - loss: 0.0771 - accuracy: 0.9838 - val_loss: 1.8999 - val_accuracy: 0.6649\n",
            "Epoch 5/100\n",
            "24/24 [==============================] - 5s 192ms/step - loss: 0.0487 - accuracy: 0.9905 - val_loss: 1.4071 - val_accuracy: 0.6811\n",
            "Epoch 6/100\n",
            "24/24 [==============================] - 5s 195ms/step - loss: 0.2092 - accuracy: 0.9811 - val_loss: 1.1891 - val_accuracy: 0.6973\n",
            "Epoch 7/100\n",
            "24/24 [==============================] - 4s 185ms/step - loss: 0.0572 - accuracy: 0.9838 - val_loss: 2.5524 - val_accuracy: 0.7027\n",
            "Epoch 8/100\n",
            "24/24 [==============================] - 4s 184ms/step - loss: 0.0807 - accuracy: 0.9878 - val_loss: 0.9992 - val_accuracy: 0.7081\n",
            "Epoch 9/100\n",
            "24/24 [==============================] - 4s 187ms/step - loss: 0.0621 - accuracy: 0.9784 - val_loss: 1.9548 - val_accuracy: 0.7297\n",
            "Epoch 10/100\n",
            "24/24 [==============================] - 4s 178ms/step - loss: 0.0516 - accuracy: 0.9878 - val_loss: 0.9574 - val_accuracy: 0.7081\n",
            "Epoch 11/100\n",
            "24/24 [==============================] - 4s 185ms/step - loss: 0.0635 - accuracy: 0.9851 - val_loss: 2.5056 - val_accuracy: 0.6811\n",
            "Epoch 12/100\n",
            "24/24 [==============================] - 4s 179ms/step - loss: 0.0540 - accuracy: 0.9865 - val_loss: 1.0103 - val_accuracy: 0.7135\n",
            "Epoch 13/100\n",
            "24/24 [==============================] - 4s 178ms/step - loss: 0.0405 - accuracy: 0.9905 - val_loss: 1.7693 - val_accuracy: 0.6865\n",
            "Epoch 14/100\n",
            "24/24 [==============================] - 4s 178ms/step - loss: 0.0331 - accuracy: 0.9892 - val_loss: 2.5237 - val_accuracy: 0.7027\n",
            "Epoch 15/100\n",
            "24/24 [==============================] - 4s 186ms/step - loss: 0.0116 - accuracy: 0.9919 - val_loss: 2.8584 - val_accuracy: 0.7027\n",
            "6/6 [==============================] - 0s 29ms/step - loss: 2.8584 - accuracy: 0.7027\n"
          ]
        },
        {
          "output_type": "execute_result",
          "data": {
            "text/plain": [
              "[2.8584017753601074, 0.7027027010917664]"
            ]
          },
          "metadata": {},
          "execution_count": 31
        }
      ],
      "source": [
        "#add early stopping\n",
        "es = EarlyStopping(monitor='val_loss', patience=5, mode='min')\n",
        "history = model.fit(x_train2, y_train2, epochs=100, validation_data=(x_test2, y_test2), callbacks=[es])\n",
        "\n",
        "#evaluate the model\n",
        "model.evaluate(x_test2, y_test2)\n",
        "\n",
        "#history = model.fit(x_train, y_train, epochs=10, validation_data=(x_test, y_test))"
      ]
    },
    {
      "cell_type": "code",
      "execution_count": 32,
      "metadata": {
        "colab": {
          "base_uri": "https://localhost:8080/"
        },
        "id": "HOXmvWVL5EQ_",
        "outputId": "81eaea6e-df0c-4911-98da-85a5c228f2ec"
      },
      "outputs": [
        {
          "output_type": "stream",
          "name": "stdout",
          "text": [
            "6/6 [==============================] - 0s 40ms/step - loss: 2.8584 - accuracy: 0.7027\n",
            "Test Accuracy: 0.7027027010917664\n"
          ]
        }
      ],
      "source": [
        "# Evaluate the model\n",
        "loss, accuracy = model.evaluate(x_test2, y_test2)\n",
        "print(\"Test Accuracy:\", accuracy)"
      ]
    },
    {
      "cell_type": "code",
      "execution_count": 34,
      "metadata": {
        "colab": {
          "base_uri": "https://localhost:8080/",
          "height": 472
        },
        "id": "VAOhz4MC5ERA",
        "outputId": "956e3e53-2597-4bd5-e81b-7afb04e1655b"
      },
      "outputs": [
        {
          "output_type": "display_data",
          "data": {
            "text/plain": [
              "<Figure size 640x480 with 1 Axes>"
            ],
            "image/png": "[encoded data removed]"
          },
          "metadata": {}
        }
      ],
      "source": [
        "#plot the history of the model\n",
        "import matplotlib.pyplot as plt\n",
        "plt.plot(history.history['accuracy'])\n",
        "plt.plot(history.history['val_accuracy'])\n",
        "plt.title('Model accuracy')\n",
        "plt.ylabel('Accuracy')\n",
        "plt.xlabel('Epoch')\n",
        "plt.legend(['Train', 'Validation'], loc='upper left')\n",
        "plt.show()"
      ]
    },
    {
      "cell_type": "code",
      "source": [
        "\n",
        "model.save('shallow_cnn.h5')\n"
      ],
      "metadata": {
        "colab": {
          "base_uri": "https://localhost:8080/"
        },
        "id": "Leh7OpVSpaWA",
        "outputId": "8b24e425-ad40-4553-d0af-d99f716d872a"
      },
      "execution_count": 48,
      "outputs": [
        {
          "output_type": "stream",
          "name": "stderr",
          "text": [
            "/usr/local/lib/python3.10/dist-packages/keras/src/engine/training.py:3103: UserWarning: You are saving your model as an HDF5 file via `model.save()`. This file format is considered legacy. We recommend using instead the native Keras format, e.g. `model.save('my_model.keras')`.\n",
            "  saving_api.save_model(\n"
          ]
        }
      ]
    },
    {
      "cell_type": "markdown",
      "metadata": {
        "id": "ePe_RARE5ERB"
      },
      "source": [
        "### Deep CNN model - 77.8% accuracy"
      ]
    },
    {
      "cell_type": "code",
      "execution_count": 35,
      "metadata": {
        "id": "p_U_RWEf5ERB"
      },
      "outputs": [],
      "source": [
        "# Split data into train and test sets\n",
        "x_train3, x_test3, y_train3, y_test3 = train_test_split(X, y, test_size=0.2, random_state=42)"
      ]
    },
    {
      "cell_type": "code",
      "execution_count": 36,
      "metadata": {
        "id": "wVocAKBB5ERC"
      },
      "outputs": [],
      "source": [
        "from keras.utils import to_categorical\n",
        "y_train3 = to_categorical(y_train3)\n",
        "y_test3 = to_categorical(y_test3)"
      ]
    },
    {
      "cell_type": "code",
      "execution_count": 37,
      "metadata": {
        "colab": {
          "base_uri": "https://localhost:8080/"
        },
        "id": "WHHgBW3m5ERD",
        "outputId": "e0dd9af5-fd21-41d4-954e-8bc55971a788"
      },
      "outputs": [
        {
          "output_type": "execute_result",
          "data": {
            "text/plain": [
              "((740, 224, 224, 3), (185, 224, 224, 3), (740, 2), (185, 2))"
            ]
          },
          "metadata": {},
          "execution_count": 37
        }
      ],
      "source": [
        "x_train3.shape, x_test3.shape, y_train3.shape, y_test3.shape  #here we see that our target variable y train and y test has 2 classes so therefore we put 2 in output dense layer"
      ]
    },
    {
      "cell_type": "code",
      "execution_count": 40,
      "metadata": {
        "id": "CtSrwlmD5ERD"
      },
      "outputs": [],
      "source": [
        "# Define the deep CNN model\n",
        "model = Sequential([\n",
        "    # First convolutional layer\n",
        "    Conv2D(32, (3, 3), activation='relu', input_shape=(224, 224, 3)),\n",
        "\n",
        "    # Second convolutional layer\n",
        "    Conv2D(64, (3, 3), activation='relu'),\n",
        "\n",
        "    # Third convolutional layer\n",
        "    Conv2D(128, (3, 3), activation='relu'),\n",
        "\n",
        "    # Flatten the tensor output from the convolutional layers\n",
        "    Flatten(),\n",
        "\n",
        "    # Fully connected layer\n",
        "    Dense(2, activation='softmax') # Assuming binary classification\n",
        "])"
      ]
    },
    {
      "cell_type": "code",
      "source": [
        "# prompt: save the deep cnn model architecture in yml format\n",
        "\n",
        "# Convert the model to JSON\n",
        "model_json = model.to_json()\n",
        "\n",
        "# Create a dictionary to store the model and its configuration\n",
        "model_dict = {\n",
        "    \"model\": model_json,\n",
        "    \"training_config\": {\n",
        "        \"optimizer\": \"adam\",\n",
        "        \"loss\": \"categorical_crossentropy\",\n",
        "        \"metrics\": [\"accuracy\"]\n",
        "    }\n",
        "}\n",
        "\n",
        "# Save the model and its configuration to a YAML file\n",
        "with open(\"/content/model_deepCNN.yml\", \"w\") as yaml_file:\n",
        "    yaml.dump(model_dict, yaml_file, default_flow_style=False)\n"
      ],
      "metadata": {
        "id": "y8R92O3gkP8J"
      },
      "execution_count": 41,
      "outputs": []
    },
    {
      "cell_type": "code",
      "source": [
        "# Compile the model\n",
        "model.compile(optimizer='adam', loss='binary_crossentropy', metrics=['accuracy'])"
      ],
      "metadata": {
        "id": "6JCW1aZEjwhI"
      },
      "execution_count": 42,
      "outputs": []
    },
    {
      "cell_type": "code",
      "execution_count": 45,
      "metadata": {
        "colab": {
          "base_uri": "https://localhost:8080/"
        },
        "id": "11hbv0ztCni_",
        "outputId": "026f838a-6498-483b-a693-aa4337635a28"
      },
      "outputs": [
        {
          "output_type": "stream",
          "name": "stdout",
          "text": [
            "Epoch 1/6\n",
            "24/24 [==============================] - 6s 248ms/step - loss: 0.0524 - accuracy: 0.9892 - val_loss: 2.8770 - val_accuracy: 0.6486\n",
            "Epoch 2/6\n",
            "24/24 [==============================] - 6s 246ms/step - loss: 0.0435 - accuracy: 0.9919 - val_loss: 1.6568 - val_accuracy: 0.6703\n",
            "Epoch 3/6\n",
            "24/24 [==============================] - 6s 247ms/step - loss: 0.0684 - accuracy: 0.9919 - val_loss: 1.2505 - val_accuracy: 0.7189\n",
            "Epoch 4/6\n",
            "24/24 [==============================] - 6s 249ms/step - loss: 0.0578 - accuracy: 0.9878 - val_loss: 1.5421 - val_accuracy: 0.6757\n",
            "Epoch 5/6\n",
            "24/24 [==============================] - 6s 240ms/step - loss: 0.0909 - accuracy: 0.9932 - val_loss: 1.2889 - val_accuracy: 0.7081\n",
            "Epoch 6/6\n",
            "24/24 [==============================] - 6s 249ms/step - loss: 0.0864 - accuracy: 0.9865 - val_loss: 0.7512 - val_accuracy: 0.7784\n"
          ]
        }
      ],
      "source": [
        "#add early stopping\n",
        "es = EarlyStopping(monitor='val_loss', patience=5, mode='min')\n",
        "history1 = model.fit(x_train3, y_train3, epochs=6, validation_data=(x_test3, y_test3), callbacks=[es])\n",
        "\n",
        "#evaluate the model\n",
        "#model.evaluate(x_test3, y_test3)\n",
        "\n",
        "#history = model.fit(x_train3, y_train3, epochs=30, validation_data=(x_test3, y_test3))\n"
      ]
    },
    {
      "cell_type": "code",
      "execution_count": 46,
      "metadata": {
        "colab": {
          "base_uri": "https://localhost:8080/"
        },
        "id": "Itzj6Q9B5ERI",
        "outputId": "2cdb46ae-ad3a-4140-8abb-6883a5d06420"
      },
      "outputs": [
        {
          "output_type": "stream",
          "name": "stdout",
          "text": [
            "6/6 [==============================] - 0s 76ms/step - loss: 0.7512 - accuracy: 0.7784\n",
            "Test Accuracy: 0.7783783674240112\n"
          ]
        }
      ],
      "source": [
        "# Evaluate the model\n",
        "loss, accuracy = model.evaluate(x_test3, y_test3)\n",
        "print(\"Test Accuracy:\", accuracy)"
      ]
    },
    {
      "cell_type": "code",
      "execution_count": 47,
      "metadata": {
        "colab": {
          "base_uri": "https://localhost:8080/",
          "height": 472
        },
        "id": "1DLzpPQk5ERJ",
        "outputId": "0993d27c-c081-468d-9c40-77e738b94fd8"
      },
      "outputs": [
        {
          "output_type": "display_data",
          "data": {
            "text/plain": [
              "<Figure size 640x480 with 1 Axes>"
            ],
            "image/png": "[encoded data removed]"
          },
          "metadata": {}
        }
      ],
      "source": [
        "#plot the history of the model\n",
        "plt.plot(history1.history['accuracy'])\n",
        "plt.plot(history1.history['val_accuracy'])\n",
        "plt.title('Model accuracy')\n",
        "plt.ylabel('Accuracy')\n",
        "plt.xlabel('Epoch')\n",
        "plt.legend(['Train', 'Validation'], loc='upper left')\n",
        "plt.show()"
      ]
    },
    {
      "cell_type": "markdown",
      "metadata": {
        "id": "nAv5C1bR5ERK"
      },
      "source": [
        "### Bench mark models - 95% accuracy"
      ]
    },
    {
      "cell_type": "code",
      "execution_count": 71,
      "metadata": {
        "id": "iFnCIc13FXSM"
      },
      "outputs": [],
      "source": [
        "# Split data into train and test sets\n",
        "x_train4, x_test4, y_train4, y_test4 = train_test_split(X, y, test_size=0.2, random_state=42)"
      ]
    },
    {
      "cell_type": "code",
      "execution_count": 72,
      "metadata": {
        "id": "ahHzfEc3Fapc"
      },
      "outputs": [],
      "source": [
        "from keras.utils import to_categorical\n",
        "y_train4 = to_categorical(y_train4)\n",
        "y_test4 = to_categorical(y_test4)"
      ]
    },
    {
      "cell_type": "code",
      "execution_count": 73,
      "metadata": {
        "colab": {
          "base_uri": "https://localhost:8080/"
        },
        "id": "EvqatF6TFf0f",
        "outputId": "151d3a73-0b2f-4f0b-ebab-a82589831672"
      },
      "outputs": [
        {
          "output_type": "execute_result",
          "data": {
            "text/plain": [
              "((740, 224, 224, 3), (185, 224, 224, 3), (740, 2), (185, 2))"
            ]
          },
          "metadata": {},
          "execution_count": 73
        }
      ],
      "source": [
        "x_train4.shape, x_test4.shape, y_train4.shape, y_test4.shape  #here we see that our target variable y train and y test has 2 classes so therefore we put 2 in output dense layer"
      ]
    },
    {
      "cell_type": "code",
      "execution_count": 74,
      "metadata": {
        "colab": {
          "base_uri": "https://localhost:8080/"
        },
        "id": "rdizq62u5ERL",
        "outputId": "882b1558-fc71-476c-ac2f-c047c3b8dac3"
      },
      "outputs": [
        {
          "output_type": "stream",
          "name": "stdout",
          "text": [
            "Downloading data from https://storage.googleapis.com/tensorflow/keras-applications/vgg16/vgg16_weights_tf_dim_ordering_tf_kernels_notop.h5\n",
            "58889256/58889256 [==============================] - 0s 0us/step\n",
            "Model: \"sequential_8\"\n",
            "_________________________________________________________________\n",
            " Layer (type)                Output Shape              Param #   \n",
            "=================================================================\n",
            " vgg16 (Functional)          (None, 7, 7, 512)         14714688  \n",
            "                                                                 \n",
            " flatten_7 (Flatten)         (None, 25088)             0         \n",
            "                                                                 \n",
            " dense_14 (Dense)            (None, 1024)              25691136  \n",
            "                                                                 \n",
            " dense_15 (Dense)            (None, 512)               524800    \n",
            "                                                                 \n",
            " dense_16 (Dense)            (None, 2)                 1026      \n",
            "                                                                 \n",
            "=================================================================\n",
            "Total params: 40931650 (156.14 MB)\n",
            "Trainable params: 26216962 (100.01 MB)\n",
            "Non-trainable params: 14714688 (56.13 MB)\n",
            "_________________________________________________________________\n"
          ]
        }
      ],
      "source": [
        "import tensorflow as tf\n",
        "from tensorflow.keras.applications import VGG16\n",
        "from tensorflow.keras.models import Sequential\n",
        "from tensorflow.keras.layers import Dense, Flatten\n",
        "\n",
        "# Load the VGG16 model with pre-trained weights\n",
        "#This code loads the VGG16 model with pre-trained weights from the ImageNet dataset.\n",
        "# The include_top=False parameter means that the final fully connected layer, which is responsible for classification, is not included.\n",
        "# This allows us to add our own fully connected layers at the end of the model, tailored to our specific task\n",
        "base_model = VGG16(weights='imagenet', include_top=False, input_shape=(224, 224, 3))\n",
        "\n",
        "# Freeze the layers of the base model\n",
        "for layer in base_model.layers:\n",
        "    layer.trainable = False\n",
        "\n",
        "# Create a new model on top of the base model\n",
        "model = Sequential([\n",
        "    base_model,\n",
        "    Flatten(),\n",
        "    Dense(1024, activation='relu'),\n",
        "    Dense(512, activation='relu'),\n",
        "    Dense(2, activation='softmax') # Assuming binary classification\n",
        "])\n",
        "\n",
        "# Compile the model\n",
        "model.compile(optimizer='adam', loss='binary_crossentropy', metrics=['accuracy'])\n",
        "\n",
        "# Print the model summary\n",
        "model.summary()"
      ]
    },
    {
      "cell_type": "code",
      "source": [
        "# prompt: save the model architecture in yml format\n",
        "\n",
        "# Convert the model to JSON\n",
        "model_json = model.to_json()\n",
        "\n",
        "# Create a dictionary to store the model and its configuration\n",
        "model_dict = {\n",
        "    \"model\": model_json,\n",
        "    \"training_config\": {\n",
        "        \"optimizer\": \"adam\",\n",
        "        \"loss\": \"categorical_crossentropy\",\n",
        "        \"metrics\": [\"accuracy\"]\n",
        "    }\n",
        "}\n",
        "\n",
        "# Save the model and its configuration to a YAML file\n",
        "with open(\"/content/model_benchmark.yml\", \"w\") as yaml_file:\n",
        "    yaml.dump(model_dict, yaml_file, default_flow_style=False)\n"
      ],
      "metadata": {
        "id": "5Kg1EUVOpgIM"
      },
      "execution_count": 76,
      "outputs": []
    },
    {
      "cell_type": "code",
      "execution_count": 77,
      "metadata": {
        "colab": {
          "base_uri": "https://localhost:8080/"
        },
        "id": "Daemch_GFIKw",
        "outputId": "6cfd3805-81da-43c1-abb4-1b68a2cce4f8"
      },
      "outputs": [
        {
          "output_type": "stream",
          "name": "stdout",
          "text": [
            "Epoch 1/10\n",
            "24/24 [==============================] - 20s 492ms/step - loss: 9.3577 - accuracy: 0.8622 - val_loss: 2.5854 - val_accuracy: 0.9405\n",
            "Epoch 2/10\n",
            "24/24 [==============================] - 5s 193ms/step - loss: 0.3193 - accuracy: 0.9824 - val_loss: 2.2390 - val_accuracy: 0.9351\n",
            "Epoch 3/10\n",
            "24/24 [==============================] - 4s 173ms/step - loss: 0.2811 - accuracy: 0.9946 - val_loss: 1.3255 - val_accuracy: 0.9622\n",
            "Epoch 4/10\n",
            "24/24 [==============================] - 5s 192ms/step - loss: 0.0994 - accuracy: 0.9946 - val_loss: 1.0171 - val_accuracy: 0.9622\n",
            "Epoch 5/10\n",
            "24/24 [==============================] - 4s 168ms/step - loss: 0.2519 - accuracy: 0.9932 - val_loss: 1.3191 - val_accuracy: 0.9568\n",
            "Epoch 6/10\n",
            "24/24 [==============================] - 4s 188ms/step - loss: 0.1673 - accuracy: 0.9905 - val_loss: 1.6057 - val_accuracy: 0.9514\n",
            "Epoch 7/10\n",
            "24/24 [==============================] - 4s 187ms/step - loss: 0.1391 - accuracy: 0.9946 - val_loss: 1.6844 - val_accuracy: 0.9514\n",
            "Epoch 8/10\n",
            "24/24 [==============================] - 4s 185ms/step - loss: 0.1741 - accuracy: 0.9932 - val_loss: 1.6447 - val_accuracy: 0.9514\n",
            "Epoch 9/10\n",
            "24/24 [==============================] - 4s 185ms/step - loss: 0.0760 - accuracy: 0.9932 - val_loss: 1.6803 - val_accuracy: 0.9514\n",
            "Epoch 10/10\n",
            "24/24 [==============================] - 4s 185ms/step - loss: 0.0420 - accuracy: 0.9932 - val_loss: 1.7330 - val_accuracy: 0.9514\n"
          ]
        }
      ],
      "source": [
        "\n",
        "history = model.fit(x_train4, y_train4, epochs=10, validation_data=(x_test4, y_test4))\n"
      ]
    },
    {
      "cell_type": "code",
      "execution_count": 78,
      "metadata": {
        "colab": {
          "base_uri": "https://localhost:8080/"
        },
        "id": "NN0vNWPgF4XP",
        "outputId": "c20225ac-8027-42b1-9b09-43decdff857e"
      },
      "outputs": [
        {
          "output_type": "stream",
          "name": "stdout",
          "text": [
            "6/6 [==============================] - 1s 124ms/step - loss: 1.7330 - accuracy: 0.9514\n",
            "Test Accuracy: 0.9513513445854187\n"
          ]
        }
      ],
      "source": [
        "# Evaluate the model\n",
        "loss, accuracy = model.evaluate(x_test4, y_test4)\n",
        "print(\"Test Accuracy:\", accuracy)"
      ]
    },
    {
      "cell_type": "code",
      "execution_count": 79,
      "metadata": {
        "colab": {
          "base_uri": "https://localhost:8080/",
          "height": 472
        },
        "id": "Pbqm73JCF7v0",
        "outputId": "35905303-5c8b-4530-9143-6c61ee0e7997"
      },
      "outputs": [
        {
          "output_type": "display_data",
          "data": {
            "text/plain": [
              "<Figure size 640x480 with 1 Axes>"
            ],
            "image/png": "[encoded data removed]"
          },
          "metadata": {}
        }
      ],
      "source": [
        "#plot the history of the model\n",
        "plt.plot(history.history['accuracy'])\n",
        "plt.plot(history.history['val_accuracy'])\n",
        "plt.title('Model accuracy')\n",
        "plt.ylabel('Accuracy')\n",
        "plt.xlabel('Epoch')\n",
        "plt.legend(['Train', 'Validation'], loc='upper left')\n",
        "plt.show()"
      ]
    },
    {
      "cell_type": "markdown",
      "metadata": {
        "id": "zdxwwd2q5ERP"
      },
      "source": [
        "### Streamlit app - python script run\n"
      ]
    }
  ],
  "metadata": {
    "accelerator": "GPU",
    "colab": {
      "gpuType": "T4",
      "provenance": []
    },
    "kernelspec": {
      "display_name": "Python 3",
      "name": "python3"
    },
    "language_info": {
      "codemirror_mode": {
        "name": "ipython",
        "version": 3
      },
      "file_extension": ".py",
      "mimetype": "text/x-python",
      "name": "python",
      "nbconvert_exporter": "python",
      "pygments_lexer": "ipython3",
      "version": "3.11.7"
    }
  },
  "nbformat": 4,
  "nbformat_minor": 0
}